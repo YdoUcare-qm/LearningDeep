{
  "nbformat": 4,
  "nbformat_minor": 0,
  "metadata": {
    "colab": {
      "provenance": [],
      "gpuType": "T4",
      "authorship_tag": "ABX9TyPc2ld8Y77lOu9hERKdG/Im",
      "include_colab_link": true
    },
    "kernelspec": {
      "name": "python3",
      "display_name": "Python 3"
    },
    "language_info": {
      "name": "python"
    },
    "accelerator": "GPU"
  },
  "cells": [
    {
      "cell_type": "markdown",
      "metadata": {
        "id": "view-in-github",
        "colab_type": "text"
      },
      "source": [
        "<a href=\"https://colab.research.google.com/github/YdoUcare-qm/LearningDeep/blob/main/IntrotoTensors.ipynb\" target=\"_parent\"><img src=\"https://colab.research.google.com/assets/colab-badge.svg\" alt=\"Open In Colab\"/></a>"
      ]
    },
    {
      "cell_type": "code",
      "execution_count": 28,
      "metadata": {
        "colab": {
          "base_uri": "https://localhost:8080/"
        },
        "id": "MmGYbIiKwYug",
        "outputId": "29ffe9ef-b528-43f6-dd6b-fc47fc32c08b"
      },
      "outputs": [
        {
          "output_type": "stream",
          "name": "stdout",
          "text": [
            "2.3.0+cu121\n"
          ]
        }
      ],
      "source": [
        "import torch\n",
        "import pandas as pd\n",
        "import numpy as np\n",
        "import matplotlib.pyplot as plt\n",
        "print(torch.__version__)"
      ]
    },
    {
      "cell_type": "markdown",
      "source": [
        "### Tensors"
      ],
      "metadata": {
        "id": "34vcoFeL-84v"
      }
    },
    {
      "cell_type": "code",
      "source": [
        "scalar = torch.tensor(9)\n",
        "scalar"
      ],
      "metadata": {
        "colab": {
          "base_uri": "https://localhost:8080/"
        },
        "id": "kzfWKzjf7tKZ",
        "outputId": "c0e48a95-05d5-49e9-bc27-9189dfdd29d3"
      },
      "execution_count": 29,
      "outputs": [
        {
          "output_type": "execute_result",
          "data": {
            "text/plain": [
              "tensor(9)"
            ]
          },
          "metadata": {},
          "execution_count": 29
        }
      ]
    },
    {
      "cell_type": "code",
      "source": [
        "scalar.ndim"
      ],
      "metadata": {
        "colab": {
          "base_uri": "https://localhost:8080/"
        },
        "id": "r6e9Yw8vDA7m",
        "outputId": "8e9368fc-5569-478d-b6cd-718931a3fdea"
      },
      "execution_count": 30,
      "outputs": [
        {
          "output_type": "execute_result",
          "data": {
            "text/plain": [
              "0"
            ]
          },
          "metadata": {},
          "execution_count": 30
        }
      ]
    },
    {
      "cell_type": "code",
      "source": [
        "scalar.item()"
      ],
      "metadata": {
        "colab": {
          "base_uri": "https://localhost:8080/"
        },
        "id": "UNjk68UzHyqk",
        "outputId": "8254f8d7-6c07-4262-9a32-cc113c247f3e"
      },
      "execution_count": 31,
      "outputs": [
        {
          "output_type": "execute_result",
          "data": {
            "text/plain": [
              "9"
            ]
          },
          "metadata": {},
          "execution_count": 31
        }
      ]
    },
    {
      "cell_type": "code",
      "source": [
        "vector = torch.tensor([1,2,3])\n",
        "print(vector.ndim)\n",
        "# print(vector.item())\n",
        "# print(type(vector.item()))\n",
        "vector.shape"
      ],
      "metadata": {
        "colab": {
          "base_uri": "https://localhost:8080/"
        },
        "id": "keo3Pm5wIBmD",
        "outputId": "0f14262b-a853-411f-a61a-88548780b1b5"
      },
      "execution_count": 32,
      "outputs": [
        {
          "output_type": "stream",
          "name": "stdout",
          "text": [
            "1\n"
          ]
        },
        {
          "output_type": "execute_result",
          "data": {
            "text/plain": [
              "torch.Size([3])"
            ]
          },
          "metadata": {},
          "execution_count": 32
        }
      ]
    },
    {
      "cell_type": "code",
      "source": [
        "matrix = torch.tensor([[1,2,3],[4,5,6],[7,8,9]])\n",
        "print(matrix.ndim)\n",
        "# print(vector.item())\n",
        "# print(type(vector.item()))\n",
        "matrix.shape"
      ],
      "metadata": {
        "colab": {
          "base_uri": "https://localhost:8080/"
        },
        "id": "xbOGLejyID36",
        "outputId": "402419a7-277c-49eb-d23f-b7f843142902"
      },
      "execution_count": 33,
      "outputs": [
        {
          "output_type": "stream",
          "name": "stdout",
          "text": [
            "2\n"
          ]
        },
        {
          "output_type": "execute_result",
          "data": {
            "text/plain": [
              "torch.Size([3, 3])"
            ]
          },
          "metadata": {},
          "execution_count": 33
        }
      ]
    },
    {
      "cell_type": "code",
      "source": [
        "TENSOR = torch.tensor([[[1,2,3],[4,5,6],[7,8,9]]])\n",
        "print(TENSOR.ndim)\n",
        "# print(vector.item())\n",
        "# print(type(vector.item()))\n",
        "TENSOR.shape"
      ],
      "metadata": {
        "colab": {
          "base_uri": "https://localhost:8080/"
        },
        "id": "Xo78vazrJPjT",
        "outputId": "7055446a-10bd-4125-a1c8-ee638b8f6092"
      },
      "execution_count": 34,
      "outputs": [
        {
          "output_type": "stream",
          "name": "stdout",
          "text": [
            "3\n"
          ]
        },
        {
          "output_type": "execute_result",
          "data": {
            "text/plain": [
              "torch.Size([1, 3, 3])"
            ]
          },
          "metadata": {},
          "execution_count": 34
        }
      ]
    },
    {
      "cell_type": "code",
      "source": [
        "TENSOR[0][1]"
      ],
      "metadata": {
        "colab": {
          "base_uri": "https://localhost:8080/"
        },
        "id": "l9StCnQqJwf3",
        "outputId": "ce6145f3-9bf5-47aa-d83d-aaf79afcaca4"
      },
      "execution_count": 35,
      "outputs": [
        {
          "output_type": "execute_result",
          "data": {
            "text/plain": [
              "tensor([4, 5, 6])"
            ]
          },
          "metadata": {},
          "execution_count": 35
        }
      ]
    },
    {
      "cell_type": "code",
      "source": [
        "RANDOM_TENSOR=torch.rand(3,3,3)\n",
        "RANDOM_TENSOR"
      ],
      "metadata": {
        "colab": {
          "base_uri": "https://localhost:8080/"
        },
        "id": "-_aRVwsnKPP6",
        "outputId": "fc59644d-0b12-40bb-9e84-48777bec6669"
      },
      "execution_count": 36,
      "outputs": [
        {
          "output_type": "execute_result",
          "data": {
            "text/plain": [
              "tensor([[[0.4925, 0.5588, 0.6561],\n",
              "         [0.4153, 0.6149, 0.8924],\n",
              "         [0.2128, 0.4898, 0.6363]],\n",
              "\n",
              "        [[0.8217, 0.4116, 0.8525],\n",
              "         [0.5240, 0.1017, 0.6125],\n",
              "         [0.0053, 0.6347, 0.1230]],\n",
              "\n",
              "        [[0.3773, 0.5700, 0.6656],\n",
              "         [0.9114, 0.0194, 0.5969],\n",
              "         [0.8871, 0.1067, 0.0011]]])"
            ]
          },
          "metadata": {},
          "execution_count": 36
        }
      ]
    },
    {
      "cell_type": "code",
      "source": [
        "ZEROS = torch.zeros(4,4,4)\n",
        "ZEROS"
      ],
      "metadata": {
        "colab": {
          "base_uri": "https://localhost:8080/"
        },
        "id": "inZyDQMyMhGl",
        "outputId": "1795f20e-f645-4a43-c9fa-ede25d2e468c"
      },
      "execution_count": 37,
      "outputs": [
        {
          "output_type": "execute_result",
          "data": {
            "text/plain": [
              "tensor([[[0., 0., 0., 0.],\n",
              "         [0., 0., 0., 0.],\n",
              "         [0., 0., 0., 0.],\n",
              "         [0., 0., 0., 0.]],\n",
              "\n",
              "        [[0., 0., 0., 0.],\n",
              "         [0., 0., 0., 0.],\n",
              "         [0., 0., 0., 0.],\n",
              "         [0., 0., 0., 0.]],\n",
              "\n",
              "        [[0., 0., 0., 0.],\n",
              "         [0., 0., 0., 0.],\n",
              "         [0., 0., 0., 0.],\n",
              "         [0., 0., 0., 0.]],\n",
              "\n",
              "        [[0., 0., 0., 0.],\n",
              "         [0., 0., 0., 0.],\n",
              "         [0., 0., 0., 0.],\n",
              "         [0., 0., 0., 0.]]])"
            ]
          },
          "metadata": {},
          "execution_count": 37
        }
      ]
    },
    {
      "cell_type": "code",
      "source": [
        "ONES = torch.ones(4,4,4)\n",
        "ONES.dtype"
      ],
      "metadata": {
        "colab": {
          "base_uri": "https://localhost:8080/"
        },
        "id": "z9Asz8_XOX3z",
        "outputId": "68d36d8d-3562-418e-acaa-7e40ed04d301"
      },
      "execution_count": 38,
      "outputs": [
        {
          "output_type": "execute_result",
          "data": {
            "text/plain": [
              "torch.float32"
            ]
          },
          "metadata": {},
          "execution_count": 38
        }
      ]
    },
    {
      "cell_type": "code",
      "source": [
        "ar=torch.arange(0,10,2)\n",
        "ar"
      ],
      "metadata": {
        "colab": {
          "base_uri": "https://localhost:8080/"
        },
        "id": "dhwpFOFoOswz",
        "outputId": "cc0db13b-61d8-4883-b336-e5a260187ed0"
      },
      "execution_count": 39,
      "outputs": [
        {
          "output_type": "execute_result",
          "data": {
            "text/plain": [
              "tensor([0, 2, 4, 6, 8])"
            ]
          },
          "metadata": {},
          "execution_count": 39
        }
      ]
    },
    {
      "cell_type": "code",
      "source": [
        "zl = torch.zeros_like(ar)\n",
        "zl"
      ],
      "metadata": {
        "colab": {
          "base_uri": "https://localhost:8080/"
        },
        "id": "87mZI1vacDqy",
        "outputId": "e03c4d3d-7937-41f7-d523-a243e09ef97b"
      },
      "execution_count": 40,
      "outputs": [
        {
          "output_type": "execute_result",
          "data": {
            "text/plain": [
              "tensor([0, 0, 0, 0, 0])"
            ]
          },
          "metadata": {},
          "execution_count": 40
        }
      ]
    },
    {
      "cell_type": "markdown",
      "source": [
        "### Tensor Datatypes"
      ],
      "metadata": {
        "id": "nioDu0zBeYTj"
      }
    },
    {
      "cell_type": "code",
      "source": [
        "f = torch.tensor([1.0,2.0,3.0],\n",
        "                dtype=torch.float16,   ##datatype of the tensor\n",
        "                device=\"cpu\",  ## device of the tensor\n",
        "                requires_grad=False ##whether to track the gradient of tensors in operations\n",
        "                )\n",
        "g = f.type(torch.float32)\n",
        "f*g"
      ],
      "metadata": {
        "colab": {
          "base_uri": "https://localhost:8080/"
        },
        "id": "u1c5rt54eXyr",
        "outputId": "3163c773-233f-4d09-8d15-080a779a3998"
      },
      "execution_count": 41,
      "outputs": [
        {
          "output_type": "execute_result",
          "data": {
            "text/plain": [
              "tensor([1., 4., 9.])"
            ]
          },
          "metadata": {},
          "execution_count": 41
        }
      ]
    },
    {
      "cell_type": "code",
      "source": [],
      "metadata": {
        "id": "_60W69UQkIrm"
      },
      "execution_count": 41,
      "outputs": []
    },
    {
      "cell_type": "markdown",
      "source": [
        "### Tensor Manipulation\n",
        "\n",
        "- Addition\n",
        "- Subtraction\n",
        "- Multiplication\n",
        "- Division\n",
        "- Matrix Multiplication"
      ],
      "metadata": {
        "id": "2HcQMCdnCmem"
      }
    },
    {
      "cell_type": "code",
      "source": [
        "t= torch.tensor([1,2,3])\n",
        "t=t+10\n",
        "t"
      ],
      "metadata": {
        "colab": {
          "base_uri": "https://localhost:8080/"
        },
        "id": "F06-Ks7lC2LL",
        "outputId": "cd8df7d8-7b8d-466d-999b-c017f4b13521"
      },
      "execution_count": 42,
      "outputs": [
        {
          "output_type": "execute_result",
          "data": {
            "text/plain": [
              "tensor([11, 12, 13])"
            ]
          },
          "metadata": {},
          "execution_count": 42
        }
      ]
    },
    {
      "cell_type": "code",
      "source": [
        "t= torch.tensor([1,2,3])\n",
        "t=t*10\n",
        "t"
      ],
      "metadata": {
        "colab": {
          "base_uri": "https://localhost:8080/"
        },
        "id": "AfYcd90ZDD4J",
        "outputId": "fdc715e1-de24-49c3-f6b6-8e02b3b7b43a"
      },
      "execution_count": 43,
      "outputs": [
        {
          "output_type": "execute_result",
          "data": {
            "text/plain": [
              "tensor([10, 20, 30])"
            ]
          },
          "metadata": {},
          "execution_count": 43
        }
      ]
    },
    {
      "cell_type": "code",
      "source": [
        "t= torch.tensor([1,2,3])\n",
        "t=t-10\n",
        "t"
      ],
      "metadata": {
        "colab": {
          "base_uri": "https://localhost:8080/"
        },
        "id": "iiNUpU5tDJKp",
        "outputId": "58c073c4-7bc7-44ee-9f61-4ed91b6553d8"
      },
      "execution_count": 44,
      "outputs": [
        {
          "output_type": "execute_result",
          "data": {
            "text/plain": [
              "tensor([-9, -8, -7])"
            ]
          },
          "metadata": {},
          "execution_count": 44
        }
      ]
    },
    {
      "cell_type": "code",
      "source": [
        "t= torch.tensor([1,2,3])\n",
        "t=t/10\n",
        "t"
      ],
      "metadata": {
        "colab": {
          "base_uri": "https://localhost:8080/"
        },
        "id": "Q9QQl_NsDNWD",
        "outputId": "15de4db8-3fd8-4a62-caa2-ad14248992c8"
      },
      "execution_count": 45,
      "outputs": [
        {
          "output_type": "execute_result",
          "data": {
            "text/plain": [
              "tensor([0.1000, 0.2000, 0.3000])"
            ]
          },
          "metadata": {},
          "execution_count": 45
        }
      ]
    },
    {
      "cell_type": "code",
      "source": [
        "t1= torch.tensor([1,2,3])\n",
        "t2 = torch.tensor([4,5,6])\n",
        "torch.mul(t1,t2) #or t1*t2"
      ],
      "metadata": {
        "colab": {
          "base_uri": "https://localhost:8080/"
        },
        "id": "b0_63a2CDRDh",
        "outputId": "10bd5497-e264-4e75-b866-f9729b289c2a"
      },
      "execution_count": 46,
      "outputs": [
        {
          "output_type": "execute_result",
          "data": {
            "text/plain": [
              "tensor([ 4, 10, 18])"
            ]
          },
          "metadata": {},
          "execution_count": 46
        }
      ]
    },
    {
      "cell_type": "markdown",
      "source": [
        "#### Matrix Multiplication\n",
        "- Element-wise\n",
        "- matrix multiplication(dot product)"
      ],
      "metadata": {
        "id": "uZNlcTnIEIiL"
      }
    },
    {
      "cell_type": "code",
      "source": [
        "%%time\n",
        "t= torch.tensor([[1,2,3],[4,5,6],[7,8,9]])\n",
        "t@t"
      ],
      "metadata": {
        "colab": {
          "base_uri": "https://localhost:8080/"
        },
        "id": "gUC2833TEQ2U",
        "outputId": "7755ef40-a9a3-4d96-bcc2-0b9ddca3a88d"
      },
      "execution_count": 51,
      "outputs": [
        {
          "output_type": "stream",
          "name": "stdout",
          "text": [
            "CPU times: user 277 µs, sys: 959 µs, total: 1.24 ms\n",
            "Wall time: 1.18 ms\n"
          ]
        },
        {
          "output_type": "execute_result",
          "data": {
            "text/plain": [
              "tensor([[ 30,  36,  42],\n",
              "        [ 66,  81,  96],\n",
              "        [102, 126, 150]])"
            ]
          },
          "metadata": {},
          "execution_count": 51
        }
      ]
    },
    {
      "cell_type": "code",
      "source": [
        "%%time\n",
        "torch.matmul(t,t) #Faster than for-loop"
      ],
      "metadata": {
        "colab": {
          "base_uri": "https://localhost:8080/"
        },
        "id": "izfbm9aFFbBj",
        "outputId": "0b3bb9b9-d731-493f-be37-caa54bfaa1b4"
      },
      "execution_count": 52,
      "outputs": [
        {
          "output_type": "stream",
          "name": "stdout",
          "text": [
            "CPU times: user 552 µs, sys: 41 µs, total: 593 µs\n",
            "Wall time: 427 µs\n"
          ]
        },
        {
          "output_type": "execute_result",
          "data": {
            "text/plain": [
              "tensor([[ 30,  36,  42],\n",
              "        [ 66,  81,  96],\n",
              "        [102, 126, 150]])"
            ]
          },
          "metadata": {},
          "execution_count": 52
        }
      ]
    },
    {
      "cell_type": "code",
      "source": [
        "t1=torch.tensor([[4,4,4],[5,6,7]])\n",
        "t2=torch.tensor([[4,4,6],[5,7,8]])\n",
        "print(torch.mm( t1,t2.T))\n",
        "print(torch.mm( t1.T,t2))\n"
      ],
      "metadata": {
        "colab": {
          "base_uri": "https://localhost:8080/"
        },
        "id": "GJHkJaDfIH8j",
        "outputId": "67765fcd-47b3-4ba0-bcac-518a4ab31d2e"
      },
      "execution_count": 57,
      "outputs": [
        {
          "output_type": "stream",
          "name": "stdout",
          "text": [
            "tensor([[ 56,  80],\n",
            "        [ 86, 123]])\n",
            "tensor([[41, 51, 64],\n",
            "        [46, 58, 72],\n",
            "        [51, 65, 80]])\n"
          ]
        }
      ]
    },
    {
      "cell_type": "markdown",
      "source": [
        "### Aggregate functions"
      ],
      "metadata": {
        "id": "rNZfDIAQMk4A"
      }
    },
    {
      "cell_type": "code",
      "source": [
        "x= torch.arange(0,100,10)\n",
        "print(x,x.dtype)\n",
        "x=x.type(torch.float32)\n",
        "print(x.max(),torch.max(x))\n",
        "print(x.min(),torch.min(x))\n",
        "print(x.mean(),torch.mean(x))\n",
        "print(x.sum(),torch.sum(x))\n"
      ],
      "metadata": {
        "colab": {
          "base_uri": "https://localhost:8080/"
        },
        "id": "SZRIr7mWMURG",
        "outputId": "46a9f375-8d53-4eb5-af0f-10164a007dde"
      },
      "execution_count": 63,
      "outputs": [
        {
          "output_type": "stream",
          "name": "stdout",
          "text": [
            "tensor([ 0, 10, 20, 30, 40, 50, 60, 70, 80, 90]) torch.int64\n",
            "tensor(90.) tensor(90.)\n",
            "tensor(0.) tensor(0.)\n",
            "tensor(45.) tensor(45.)\n",
            "tensor(450.) tensor(450.)\n"
          ]
        }
      ]
    },
    {
      "cell_type": "code",
      "source": [
        "print(x.argmax())\n",
        "print(x.argmin())"
      ],
      "metadata": {
        "colab": {
          "base_uri": "https://localhost:8080/"
        },
        "id": "MS3FTpEfPR3K",
        "outputId": "e93ac65d-dcc8-40b1-8e28-b6e628563064"
      },
      "execution_count": 64,
      "outputs": [
        {
          "output_type": "stream",
          "name": "stdout",
          "text": [
            "tensor(9)\n",
            "tensor(0)\n"
          ]
        }
      ]
    },
    {
      "cell_type": "markdown",
      "source": [
        "- Reshaping\n",
        "- View\n",
        "- Stacking\n",
        "- Squeezing\n",
        "- Unsqueezing\n",
        "- Permute"
      ],
      "metadata": {
        "id": "jw2DmimN8tP2"
      }
    },
    {
      "cell_type": "code",
      "source": [
        "import torch\n",
        "x= torch.arange(1,10)\n",
        "print(x)"
      ],
      "metadata": {
        "colab": {
          "base_uri": "https://localhost:8080/"
        },
        "id": "LHOiMy6-9-Od",
        "outputId": "e1daa07f-d816-4690-e633-f5b828d9ddd1"
      },
      "execution_count": 1,
      "outputs": [
        {
          "output_type": "stream",
          "name": "stdout",
          "text": [
            "tensor([1, 2, 3, 4, 5, 6, 7, 8, 9])\n"
          ]
        }
      ]
    },
    {
      "cell_type": "code",
      "source": [
        "y=x.reshape(3,3)\n",
        "y"
      ],
      "metadata": {
        "colab": {
          "base_uri": "https://localhost:8080/"
        },
        "id": "RU0-xIIn-RhY",
        "outputId": "dfcb34ff-e451-433f-e0d7-307247cb13c0"
      },
      "execution_count": 2,
      "outputs": [
        {
          "output_type": "execute_result",
          "data": {
            "text/plain": [
              "tensor([[1, 2, 3],\n",
              "        [4, 5, 6],\n",
              "        [7, 8, 9]])"
            ]
          },
          "metadata": {},
          "execution_count": 2
        }
      ]
    },
    {
      "cell_type": "code",
      "source": [
        "y.reshape(9,1)"
      ],
      "metadata": {
        "colab": {
          "base_uri": "https://localhost:8080/"
        },
        "id": "r3r4llWk-h3Q",
        "outputId": "ae432089-84c0-4736-c430-926790de9651"
      },
      "execution_count": 3,
      "outputs": [
        {
          "output_type": "execute_result",
          "data": {
            "text/plain": [
              "tensor([[1],\n",
              "        [2],\n",
              "        [3],\n",
              "        [4],\n",
              "        [5],\n",
              "        [6],\n",
              "        [7],\n",
              "        [8],\n",
              "        [9]])"
            ]
          },
          "metadata": {},
          "execution_count": 3
        }
      ]
    },
    {
      "cell_type": "code",
      "source": [
        "z=y.view(1,9) #same as reshape but the tensor object is same\n",
        "z,y"
      ],
      "metadata": {
        "colab": {
          "base_uri": "https://localhost:8080/"
        },
        "id": "7jKWKHf1_qfR",
        "outputId": "f1c8b1b1-feeb-4b97-f94c-a298a670abb9"
      },
      "execution_count": 4,
      "outputs": [
        {
          "output_type": "execute_result",
          "data": {
            "text/plain": [
              "(tensor([[1, 2, 3, 4, 5, 6, 7, 8, 9]]),\n",
              " tensor([[1, 2, 3],\n",
              "         [4, 5, 6],\n",
              "         [7, 8, 9]]))"
            ]
          },
          "metadata": {},
          "execution_count": 4
        }
      ]
    },
    {
      "cell_type": "code",
      "source": [
        "z[:,0]=5\n",
        "z,y"
      ],
      "metadata": {
        "colab": {
          "base_uri": "https://localhost:8080/"
        },
        "id": "gTYUayQS_8ZJ",
        "outputId": "c28d463f-f988-4b77-a280-45c65ea464b1"
      },
      "execution_count": 5,
      "outputs": [
        {
          "output_type": "execute_result",
          "data": {
            "text/plain": [
              "(tensor([[5, 2, 3, 4, 5, 6, 7, 8, 9]]),\n",
              " tensor([[5, 2, 3],\n",
              "         [4, 5, 6],\n",
              "         [7, 8, 9]]))"
            ]
          },
          "metadata": {},
          "execution_count": 5
        }
      ]
    },
    {
      "cell_type": "code",
      "source": [
        "x=torch.arange(1,10)\n",
        "y=torch.arange(1,100,11)\n",
        "z=torch.arange(1,1000,111)\n",
        "x,y,z"
      ],
      "metadata": {
        "colab": {
          "base_uri": "https://localhost:8080/"
        },
        "id": "kRBp3l94A3lj",
        "outputId": "510bd6bc-79ca-4c9e-b942-5a86cef7832b"
      },
      "execution_count": 6,
      "outputs": [
        {
          "output_type": "execute_result",
          "data": {
            "text/plain": [
              "(tensor([1, 2, 3, 4, 5, 6, 7, 8, 9]),\n",
              " tensor([ 1, 12, 23, 34, 45, 56, 67, 78, 89]),\n",
              " tensor([  1, 112, 223, 334, 445, 556, 667, 778, 889]))"
            ]
          },
          "metadata": {},
          "execution_count": 6
        }
      ]
    },
    {
      "cell_type": "code",
      "source": [
        "a=torch.stack([x,y,z],dim=0)\n",
        "b=torch.stack([x,y,z],dim=1)\n",
        "c=torch.stack([x,y,z],dim=-1)\n",
        "d=torch.stack([x,y,z],dim=-2)\n",
        "a,b,c,d"
      ],
      "metadata": {
        "colab": {
          "base_uri": "https://localhost:8080/"
        },
        "id": "HOj3UHc3CmKC",
        "outputId": "a93647d7-5f17-490a-f518-7a5fd67a1219"
      },
      "execution_count": 7,
      "outputs": [
        {
          "output_type": "execute_result",
          "data": {
            "text/plain": [
              "(tensor([[  1,   2,   3,   4,   5,   6,   7,   8,   9],\n",
              "         [  1,  12,  23,  34,  45,  56,  67,  78,  89],\n",
              "         [  1, 112, 223, 334, 445, 556, 667, 778, 889]]),\n",
              " tensor([[  1,   1,   1],\n",
              "         [  2,  12, 112],\n",
              "         [  3,  23, 223],\n",
              "         [  4,  34, 334],\n",
              "         [  5,  45, 445],\n",
              "         [  6,  56, 556],\n",
              "         [  7,  67, 667],\n",
              "         [  8,  78, 778],\n",
              "         [  9,  89, 889]]),\n",
              " tensor([[  1,   1,   1],\n",
              "         [  2,  12, 112],\n",
              "         [  3,  23, 223],\n",
              "         [  4,  34, 334],\n",
              "         [  5,  45, 445],\n",
              "         [  6,  56, 556],\n",
              "         [  7,  67, 667],\n",
              "         [  8,  78, 778],\n",
              "         [  9,  89, 889]]),\n",
              " tensor([[  1,   2,   3,   4,   5,   6,   7,   8,   9],\n",
              "         [  1,  12,  23,  34,  45,  56,  67,  78,  89],\n",
              "         [  1, 112, 223, 334, 445, 556, 667, 778, 889]]))"
            ]
          },
          "metadata": {},
          "execution_count": 7
        }
      ]
    },
    {
      "cell_type": "code",
      "source": [
        "p=torch.ones(1,1,2)\n",
        "q=torch.squeeze(p)\n",
        "r=torch.squeeze(q)\n",
        "p,p.shape,q,q.shape,r,r.shape"
      ],
      "metadata": {
        "colab": {
          "base_uri": "https://localhost:8080/"
        },
        "id": "FsnTNbJu3E-M",
        "outputId": "b68674de-dd12-46ef-ff95-eb285c64aaec"
      },
      "execution_count": 24,
      "outputs": [
        {
          "output_type": "execute_result",
          "data": {
            "text/plain": [
              "(tensor([[[1., 1.]]]),\n",
              " torch.Size([1, 1, 2]),\n",
              " tensor([1., 1.]),\n",
              " torch.Size([2]),\n",
              " tensor([1., 1.]),\n",
              " torch.Size([2]))"
            ]
          },
          "metadata": {},
          "execution_count": 24
        }
      ]
    },
    {
      "cell_type": "code",
      "source": [
        "torch.unsqueeze(p,dim=-1).shape"
      ],
      "metadata": {
        "colab": {
          "base_uri": "https://localhost:8080/"
        },
        "id": "DQTMhsQe54rO",
        "outputId": "27c30b1c-73f7-4820-daf3-627d1ef47ce4"
      },
      "execution_count": 30,
      "outputs": [
        {
          "output_type": "execute_result",
          "data": {
            "text/plain": [
              "torch.Size([1, 1, 2, 1])"
            ]
          },
          "metadata": {},
          "execution_count": 30
        }
      ]
    },
    {
      "cell_type": "code",
      "source": [
        "a=torch.randint(0,100,(2,3))\n",
        "a"
      ],
      "metadata": {
        "colab": {
          "base_uri": "https://localhost:8080/"
        },
        "id": "YntJwcON6yZ1",
        "outputId": "0d8634d8-3300-4dac-8ec0-7411096806da"
      },
      "execution_count": 37,
      "outputs": [
        {
          "output_type": "execute_result",
          "data": {
            "text/plain": [
              "tensor([[77, 74, 26],\n",
              "        [83, 28, 28]])"
            ]
          },
          "metadata": {},
          "execution_count": 37
        }
      ]
    },
    {
      "cell_type": "code",
      "source": [
        "a.permute(1,0)"
      ],
      "metadata": {
        "colab": {
          "base_uri": "https://localhost:8080/"
        },
        "id": "CTsohQfr7hXO",
        "outputId": "31004c76-7214-4ce0-9bbe-989fe35afe5b"
      },
      "execution_count": 38,
      "outputs": [
        {
          "output_type": "execute_result",
          "data": {
            "text/plain": [
              "tensor([[77, 83],\n",
              "        [74, 28],\n",
              "        [26, 28]])"
            ]
          },
          "metadata": {},
          "execution_count": 38
        }
      ]
    },
    {
      "cell_type": "markdown",
      "source": [
        "#### Indexing"
      ],
      "metadata": {
        "id": "Y-G2B9AO8pGu"
      }
    },
    {
      "cell_type": "code",
      "source": [
        "a=torch.randint(0,1000,(5,6))\n",
        "a"
      ],
      "metadata": {
        "colab": {
          "base_uri": "https://localhost:8080/"
        },
        "id": "8TmvbAi_8oq4",
        "outputId": "518cbd22-01d0-47e1-e5b5-1c165aaf5bb6"
      },
      "execution_count": 39,
      "outputs": [
        {
          "output_type": "execute_result",
          "data": {
            "text/plain": [
              "tensor([[485, 892, 525, 601, 456, 962],\n",
              "        [422, 158, 536, 924, 999, 755],\n",
              "        [737,  33, 528, 393, 420, 195],\n",
              "        [ 84, 772, 275, 284, 268, 930],\n",
              "        [241, 765, 530, 240, 927, 349]])"
            ]
          },
          "metadata": {},
          "execution_count": 39
        }
      ]
    },
    {
      "cell_type": "code",
      "source": [
        "a[1][2]"
      ],
      "metadata": {
        "colab": {
          "base_uri": "https://localhost:8080/"
        },
        "id": "AA9_L-lb9Ht1",
        "outputId": "ef62418c-5e41-47e1-a2a0-7d65207f71ba"
      },
      "execution_count": 53,
      "outputs": [
        {
          "output_type": "execute_result",
          "data": {
            "text/plain": [
              "tensor(536)"
            ]
          },
          "metadata": {},
          "execution_count": 53
        }
      ]
    },
    {
      "cell_type": "markdown",
      "source": [
        "### From and To NumPy"
      ],
      "metadata": {
        "id": "PfpSPPOLbWI4"
      }
    },
    {
      "cell_type": "code",
      "source": [
        "import numpy as np\n",
        "b=np.array([1,2,3])\n",
        "b,b.dtype"
      ],
      "metadata": {
        "colab": {
          "base_uri": "https://localhost:8080/"
        },
        "id": "FPylHW2habEG",
        "outputId": "af1100c4-1899-4465-bb88-c0c42170a677"
      },
      "execution_count": 55,
      "outputs": [
        {
          "output_type": "execute_result",
          "data": {
            "text/plain": [
              "(array([1, 2, 3]), dtype('int64'))"
            ]
          },
          "metadata": {},
          "execution_count": 55
        }
      ]
    },
    {
      "cell_type": "code",
      "source": [
        "b=torch.from_numpy(b)\n",
        "b,b.dtype"
      ],
      "metadata": {
        "colab": {
          "base_uri": "https://localhost:8080/"
        },
        "id": "fiJM52awapHi",
        "outputId": "05628b36-aead-4169-9fa3-d79ccf2ba7e2"
      },
      "execution_count": 56,
      "outputs": [
        {
          "output_type": "execute_result",
          "data": {
            "text/plain": [
              "(tensor([1, 2, 3]), torch.int64)"
            ]
          },
          "metadata": {},
          "execution_count": 56
        }
      ]
    },
    {
      "cell_type": "code",
      "source": [
        "b=b.numpy()\n",
        "b,b.dtype"
      ],
      "metadata": {
        "colab": {
          "base_uri": "https://localhost:8080/"
        },
        "id": "4qsIJH5DbC2F",
        "outputId": "d8a93c53-f498-46a0-bc16-725132cc6c9b"
      },
      "execution_count": 57,
      "outputs": [
        {
          "output_type": "execute_result",
          "data": {
            "text/plain": [
              "(array([1, 2, 3]), dtype('int64'))"
            ]
          },
          "metadata": {},
          "execution_count": 57
        }
      ]
    },
    {
      "cell_type": "markdown",
      "source": [
        "### Reproducibility"
      ],
      "metadata": {
        "id": "5xyl9dOobb92"
      }
    },
    {
      "cell_type": "code",
      "source": [
        "a= torch.rand(3,3)\n",
        "b= torch.rand(3,3)\n",
        "a,b"
      ],
      "metadata": {
        "colab": {
          "base_uri": "https://localhost:8080/"
        },
        "id": "WzdrV1Xjbh4s",
        "outputId": "ec8c7210-845e-43af-98e8-976120d8d3ff"
      },
      "execution_count": 58,
      "outputs": [
        {
          "output_type": "execute_result",
          "data": {
            "text/plain": [
              "(tensor([[0.2660, 0.9916, 0.6617],\n",
              "         [0.7598, 0.0381, 0.5826],\n",
              "         [0.5239, 0.5633, 0.6728]]),\n",
              " tensor([[0.8645, 0.6877, 0.8651],\n",
              "         [0.4032, 0.4317, 0.0709],\n",
              "         [0.0287, 0.6173, 0.9019]]))"
            ]
          },
          "metadata": {},
          "execution_count": 58
        }
      ]
    },
    {
      "cell_type": "code",
      "source": [
        "RANDOM_SEED=42\n",
        "torch.manual_seed(RANDOM_SEED)\n",
        "c=torch.rand(3,4)\n",
        "torch.manual_seed(RANDOM_SEED)\n",
        "d=torch.rand(3,4)\n",
        "c,d,c==d"
      ],
      "metadata": {
        "colab": {
          "base_uri": "https://localhost:8080/"
        },
        "id": "XnwLWFFic-Dz",
        "outputId": "cd99bf9d-7e8a-438e-bdce-29ed7ff633df"
      },
      "execution_count": 60,
      "outputs": [
        {
          "output_type": "execute_result",
          "data": {
            "text/plain": [
              "(tensor([[0.8823, 0.9150, 0.3829, 0.9593],\n",
              "         [0.3904, 0.6009, 0.2566, 0.7936],\n",
              "         [0.9408, 0.1332, 0.9346, 0.5936]]),\n",
              " tensor([[0.8823, 0.9150, 0.3829, 0.9593],\n",
              "         [0.3904, 0.6009, 0.2566, 0.7936],\n",
              "         [0.9408, 0.1332, 0.9346, 0.5936]]),\n",
              " tensor([[True, True, True, True],\n",
              "         [True, True, True, True],\n",
              "         [True, True, True, True]]))"
            ]
          },
          "metadata": {},
          "execution_count": 60
        }
      ]
    },
    {
      "cell_type": "markdown",
      "source": [
        "### Running Computations on GPU\n",
        "- Use Google colab GPU"
      ],
      "metadata": {
        "id": "fK0foF2HePc2"
      }
    },
    {
      "cell_type": "code",
      "source": [
        "!nvidia-smi"
      ],
      "metadata": {
        "colab": {
          "base_uri": "https://localhost:8080/"
        },
        "id": "trBq5tHEePK6",
        "outputId": "cf8856d5-ff21-40d9-cfdf-ec1071b0b2bb"
      },
      "execution_count": 3,
      "outputs": [
        {
          "output_type": "stream",
          "name": "stdout",
          "text": [
            "Thu Jul 11 11:24:23 2024       \n",
            "+---------------------------------------------------------------------------------------+\n",
            "| NVIDIA-SMI 535.104.05             Driver Version: 535.104.05   CUDA Version: 12.2     |\n",
            "|-----------------------------------------+----------------------+----------------------+\n",
            "| GPU  Name                 Persistence-M | Bus-Id        Disp.A | Volatile Uncorr. ECC |\n",
            "| Fan  Temp   Perf          Pwr:Usage/Cap |         Memory-Usage | GPU-Util  Compute M. |\n",
            "|                                         |                      |               MIG M. |\n",
            "|=========================================+======================+======================|\n",
            "|   0  Tesla T4                       Off | 00000000:00:04.0 Off |                    0 |\n",
            "| N/A   36C    P8               9W /  70W |      0MiB / 15360MiB |      0%      Default |\n",
            "|                                         |                      |                  N/A |\n",
            "+-----------------------------------------+----------------------+----------------------+\n",
            "                                                                                         \n",
            "+---------------------------------------------------------------------------------------+\n",
            "| Processes:                                                                            |\n",
            "|  GPU   GI   CI        PID   Type   Process name                            GPU Memory |\n",
            "|        ID   ID                                                             Usage      |\n",
            "|=======================================================================================|\n",
            "|  No running processes found                                                           |\n",
            "+---------------------------------------------------------------------------------------+\n"
          ]
        }
      ]
    },
    {
      "cell_type": "code",
      "source": [
        "# checking gpu access\n",
        "import torch\n",
        "torch.cuda.is_available()"
      ],
      "metadata": {
        "colab": {
          "base_uri": "https://localhost:8080/"
        },
        "id": "p5z8ftjcg0Ns",
        "outputId": "bd884891-6eea-4afe-82ac-5a85175f6fb5"
      },
      "execution_count": 4,
      "outputs": [
        {
          "output_type": "execute_result",
          "data": {
            "text/plain": [
              "True"
            ]
          },
          "metadata": {},
          "execution_count": 4
        }
      ]
    },
    {
      "cell_type": "code",
      "source": [
        "# Setting up device agnostic code\n",
        "device= \"cuda\" if torch.cuda.is_available() else \"cpu\"\n",
        "device"
      ],
      "metadata": {
        "colab": {
          "base_uri": "https://localhost:8080/",
          "height": 35
        },
        "id": "pv0i4PKCixNY",
        "outputId": "370be481-6ec4-4c9e-a6db-18be4dad5350"
      },
      "execution_count": 5,
      "outputs": [
        {
          "output_type": "execute_result",
          "data": {
            "text/plain": [
              "'cuda'"
            ],
            "application/vnd.google.colaboratory.intrinsic+json": {
              "type": "string"
            }
          },
          "metadata": {},
          "execution_count": 5
        }
      ]
    },
    {
      "cell_type": "code",
      "source": [
        "torch.cuda.device_count()"
      ],
      "metadata": {
        "colab": {
          "base_uri": "https://localhost:8080/"
        },
        "id": "iMWBkZzmjKGZ",
        "outputId": "aea8e11a-7b1c-4ac3-bf97-d9bc242f0db6"
      },
      "execution_count": 7,
      "outputs": [
        {
          "output_type": "execute_result",
          "data": {
            "text/plain": [
              "1"
            ]
          },
          "metadata": {},
          "execution_count": 7
        }
      ]
    },
    {
      "cell_type": "code",
      "source": [
        "# using tensors on gpu for faster computations\n",
        "a= torch.tensor([1,2,3],device=device)\n",
        "a,a.device"
      ],
      "metadata": {
        "colab": {
          "base_uri": "https://localhost:8080/"
        },
        "id": "OPAUJVhOjd-B",
        "outputId": "958364dd-be87-4fce-956d-9b4d51e48a77"
      },
      "execution_count": 9,
      "outputs": [
        {
          "output_type": "execute_result",
          "data": {
            "text/plain": [
              "(tensor([1, 2, 3], device='cuda:0'), device(type='cuda', index=0))"
            ]
          },
          "metadata": {},
          "execution_count": 9
        }
      ]
    },
    {
      "cell_type": "code",
      "source": [
        "# or convert device\n",
        "a=torch.arange(0,10,dtype=torch.float32)\n",
        "print(a,a.device)\n",
        "a_gpu = a.to(\"cuda\")\n",
        "print(a_gpu,a_gpu.device)"
      ],
      "metadata": {
        "colab": {
          "base_uri": "https://localhost:8080/"
        },
        "id": "HlLJWd6TkS1S",
        "outputId": "1b5dcf8e-78aa-4708-9d3d-8cd41274fa24"
      },
      "execution_count": 13,
      "outputs": [
        {
          "output_type": "stream",
          "name": "stdout",
          "text": [
            "tensor([0., 1., 2., 3., 4., 5., 6., 7., 8., 9.]) cpu\n",
            "tensor([0., 1., 2., 3., 4., 5., 6., 7., 8., 9.], device='cuda:0') cuda:0\n"
          ]
        }
      ]
    },
    {
      "cell_type": "code",
      "source": [
        "%%time\n",
        "torch.matmul(a,a)"
      ],
      "metadata": {
        "colab": {
          "base_uri": "https://localhost:8080/"
        },
        "id": "yHzQO246lhS-",
        "outputId": "a57e6652-f7ea-4dfc-d337-31fec5a6fd50"
      },
      "execution_count": 17,
      "outputs": [
        {
          "output_type": "stream",
          "name": "stdout",
          "text": [
            "CPU times: user 972 µs, sys: 0 ns, total: 972 µs\n",
            "Wall time: 1.02 ms\n"
          ]
        },
        {
          "output_type": "execute_result",
          "data": {
            "text/plain": [
              "tensor(285.)"
            ]
          },
          "metadata": {},
          "execution_count": 17
        }
      ]
    },
    {
      "cell_type": "code",
      "source": [
        "%%time\n",
        "torch.matmul(a_gpu,a_gpu)"
      ],
      "metadata": {
        "colab": {
          "base_uri": "https://localhost:8080/"
        },
        "id": "Ge4cLaXTlUCp",
        "outputId": "56fb8497-c0b1-4273-a922-8ef317548f2a"
      },
      "execution_count": 18,
      "outputs": [
        {
          "output_type": "stream",
          "name": "stdout",
          "text": [
            "CPU times: user 165 µs, sys: 0 ns, total: 165 µs\n",
            "Wall time: 169 µs\n"
          ]
        },
        {
          "output_type": "execute_result",
          "data": {
            "text/plain": [
              "tensor(285., device='cuda:0')"
            ]
          },
          "metadata": {},
          "execution_count": 18
        }
      ]
    },
    {
      "cell_type": "code",
      "source": [
        "# if tensor is on GPU, can't convert it to numpy\n",
        "a_gpu.numpy()"
      ],
      "metadata": {
        "colab": {
          "base_uri": "https://localhost:8080/",
          "height": 158
        },
        "collapsed": true,
        "id": "OqDDz6iOl9dY",
        "outputId": "6f201411-5120-42bc-c0a5-abe9af304d31"
      },
      "execution_count": 19,
      "outputs": [
        {
          "output_type": "error",
          "ename": "TypeError",
          "evalue": "can't convert cuda:0 device type tensor to numpy. Use Tensor.cpu() to copy the tensor to host memory first.",
          "traceback": [
            "\u001b[0;31m---------------------------------------------------------------------------\u001b[0m",
            "\u001b[0;31mTypeError\u001b[0m                                 Traceback (most recent call last)",
            "\u001b[0;32m<ipython-input-19-7adbe51498a4>\u001b[0m in \u001b[0;36m<cell line: 2>\u001b[0;34m()\u001b[0m\n\u001b[1;32m      1\u001b[0m \u001b[0;31m# if tensor is on GPU, can't convert it to numpy\u001b[0m\u001b[0;34m\u001b[0m\u001b[0;34m\u001b[0m\u001b[0m\n\u001b[0;32m----> 2\u001b[0;31m \u001b[0ma_gpu\u001b[0m\u001b[0;34m.\u001b[0m\u001b[0mnumpy\u001b[0m\u001b[0;34m(\u001b[0m\u001b[0;34m)\u001b[0m\u001b[0;34m\u001b[0m\u001b[0;34m\u001b[0m\u001b[0m\n\u001b[0m",
            "\u001b[0;31mTypeError\u001b[0m: can't convert cuda:0 device type tensor to numpy. Use Tensor.cpu() to copy the tensor to host memory first."
          ]
        }
      ]
    },
    {
      "cell_type": "code",
      "source": [
        "# have to convert them to cpu first\n",
        "a=a_gpu.cpu()\n",
        "a=a.numpy()\n",
        "a"
      ],
      "metadata": {
        "colab": {
          "base_uri": "https://localhost:8080/"
        },
        "id": "Ed4UcRu-mIqw",
        "outputId": "0dd4633c-f3d9-4a74-cdff-a002995f6da7"
      },
      "execution_count": 20,
      "outputs": [
        {
          "output_type": "execute_result",
          "data": {
            "text/plain": [
              "array([0., 1., 2., 3., 4., 5., 6., 7., 8., 9.], dtype=float32)"
            ]
          },
          "metadata": {},
          "execution_count": 20
        }
      ]
    },
    {
      "cell_type": "markdown",
      "source": [],
      "metadata": {
        "id": "jxZCnqgQjpsB"
      }
    }
  ]
}